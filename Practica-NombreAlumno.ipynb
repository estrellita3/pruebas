{
 "cells": [
  {
   "cell_type": "markdown",
   "metadata": {},
   "source": [
    "Vasmos a cargar el dataset de AirBnB descargado de [aquí](https://public.opendatasoft.com/explore/dataset/airbnb-listings/export/?disjunctive.host_verifications&disjunctive.amenities&disjunctive.features&q=Madrid&dataChart=eyJxdWVyaWVzIjpbeyJjaGFydHMiOlt7InR5cGUiOiJjb2x1bW4iLCJmdW5jIjoiQ09VTlQiLCJ5QXhpcyI6Imhvc3RfbGlzdGluZ3NfY291bnQiLCJzY2llbnRpZmljRGlzcGxheSI6dHJ1ZSwiY29sb3IiOiJyYW5nZS1jdXN0b20ifV0sInhBeGlzIjoiY2l0eSIsIm1heHBvaW50cyI6IiIsInRpbWVzY2FsZSI6IiIsInNvcnQiOiIiLCJzZXJpZXNCcmVha2Rvd24iOiJyb29tX3R5cGUiLCJjb25maWciOnsiZGF0YXNldCI6ImFpcmJuYi1saXN0aW5ncyIsIm9wdGlvbnMiOnsiZGlzanVuY3RpdmUuaG9zdF92ZXJpZmljYXRpb25zIjp0cnVlLCJkaXNqdW5jdGl2ZS5hbWVuaXRpZXMiOnRydWUsImRpc2p1bmN0aXZlLmZlYXR1cmVzIjp0cnVlfX19XSwidGltZXNjYWxlIjoiIiwiZGlzcGxheUxlZ2VuZCI6dHJ1ZSwiYWxpZ25Nb250aCI6dHJ1ZX0%3D&location=16,41.38377,2.15774&basemap=jawg.streets)\n",
    "\n",
    "![](descargar.png)"
   ]
  },
  {
   "cell_type": "code",
   "execution_count": 6,
   "metadata": {},
   "outputs": [],
   "source": [
    "airbnb<-read.csv('airbnb-listings.csv',sep = ';')\n",
    "options(repr.plot.height=4,repr.plot.width=6,repr.plot.res = 300)"
   ]
  },
  {
   "cell_type": "markdown",
   "metadata": {},
   "source": [
    "Vamos a quedarnos con las columnas de mayor interés:\n",
    "\n",
    "'City','Room.Type','Neighbourhood','Accommodates','Bathrooms','Bedrooms','Beds','Price','Square.Feet','Guests.Included','Extra.People','Review.Scores.Rating','Latitude', 'Longitude'"
   ]
  },
  {
   "cell_type": "code",
   "execution_count": 8,
   "metadata": {},
   "outputs": [
    {
     "data": {
      "text/html": [
       "<table class=\"dataframe\">\n",
       "<caption>A data.frame: 6 × 89</caption>\n",
       "<thead>\n",
       "\t<tr><th></th><th scope=col>ID</th><th scope=col>Listing.Url</th><th scope=col>Scrape.ID</th><th scope=col>Last.Scraped</th><th scope=col>Name</th><th scope=col>Summary</th><th scope=col>Space</th><th scope=col>Description</th><th scope=col>Experiences.Offered</th><th scope=col>Neighborhood.Overview</th><th scope=col>⋯</th><th scope=col>Review.Scores.Communication</th><th scope=col>Review.Scores.Location</th><th scope=col>Review.Scores.Value</th><th scope=col>License</th><th scope=col>Jurisdiction.Names</th><th scope=col>Cancellation.Policy</th><th scope=col>Calculated.host.listings.count</th><th scope=col>Reviews.per.Month</th><th scope=col>Geolocation</th><th scope=col>Features</th></tr>\n",
       "\t<tr><th></th><th scope=col>&lt;int&gt;</th><th scope=col>&lt;chr&gt;</th><th scope=col>&lt;dbl&gt;</th><th scope=col>&lt;chr&gt;</th><th scope=col>&lt;chr&gt;</th><th scope=col>&lt;chr&gt;</th><th scope=col>&lt;chr&gt;</th><th scope=col>&lt;chr&gt;</th><th scope=col>&lt;chr&gt;</th><th scope=col>&lt;chr&gt;</th><th scope=col>⋯</th><th scope=col>&lt;int&gt;</th><th scope=col>&lt;int&gt;</th><th scope=col>&lt;int&gt;</th><th scope=col>&lt;chr&gt;</th><th scope=col>&lt;chr&gt;</th><th scope=col>&lt;chr&gt;</th><th scope=col>&lt;int&gt;</th><th scope=col>&lt;dbl&gt;</th><th scope=col>&lt;chr&gt;</th><th scope=col>&lt;chr&gt;</th></tr>\n",
       "</thead>\n",
       "<tbody>\n",
       "\t<tr><th scope=row>1</th><td>15141125</td><td>https://www.airbnb.com/rooms/15141125</td><td>2.017041e+13</td><td>2017-04-08</td><td>Panoramic charming studio!         </td><td>Charming bright and cosy studio in \"El Rastro\" Located in the historic city center in one of the most gastronomic areas of madrid within walking distance to the most important touristic attractions.                                                             </td><td>It's a bright and cosy studio located in the heart of \"El Rastro\", one of the most central and charming areas of Madrid.  The studio has a panoramic stunning view. It's equipped with a comfy double bed, a folding single bed, tv, dvd, all the kitchen facilities, as well as a well appointed bathroom.                                                                                                                                                                                              </td><td>Charming bright and cosy studio in \"El Rastro\" Located in the historic city center in one of the most gastronomic areas of madrid within walking distance to the most important touristic attractions. It's a bright and cosy studio located in the heart of \"El Rastro\", one of the most central and charming areas of Madrid.  The studio has a panoramic stunning view. It's equipped with a comfy double bed, a folding single bed, tv, dvd, all the kitchen facilities, as well as a well appointed bathroom. The full studio will be entirely to the guests. The building has a lift so you don't have to carry your luggage any more :) I am delighted to preform the check in at the apartment upon an agreed time, and explain all the apartment details and give you a local insight about Madrid :) During the stay I am always available to assist in anything you may require :) You can always contact via whattsapp, phone and airbnb. The studio is located in the remarkable neighbourhood of La latina, Madrid city ce</td><td>none</td><td>The studio is located in the remarkable neighbourhood of La latina, Madrid city center, in the heart of El Rastro street market that happens every Sunday and bank holidays. If you are in Madrid you should not miss this event!                                                                                  </td><td>⋯</td><td>10</td><td>10</td><td>10</td><td></td><td></td><td>moderate</td><td> 2</td><td>5.11</td><td>40.40745268477803,-3.7079954754432634 </td><td>Host Is Superhost,Host Has Profile Pic,Host Identity Verified,Requires License,Instant Bookable </td></tr>\n",
       "\t<tr><th scope=row>2</th><td> 9470166</td><td>https://www.airbnb.com/rooms/9470166 </td><td>2.017041e+13</td><td>2017-04-08</td><td>Comfortable penthouse in the center</td><td>In the center, recently remodeled, comfortable, modern, very bright, very quiet and fully equipped. 10min walk to Plaza Mayor, Thyssen Museum,  Atocha train station and 15 to the Prado Museum. Metro 2min away.Great bed, Wifi,stereo,flat TV..                  </td><td>Quiet and comfortable space where you can relax during your stay in out city                                                                                                                                                                                                                                                                                                                                                                                                                             </td><td>In the center, recently remodeled, comfortable, modern, very bright, very quiet and fully equipped. 10min walk to Plaza Mayor, Thyssen Museum,  Atocha train station and 15 to the Prado Museum. Metro 2min away.Great bed, Wifi,stereo,flat TV.. Quiet and comfortable space where you can relax during your stay in out city You will be alone, while you are in my flat and you can use everything you have there If you have any questions while you are in the flat or any suggestions just tell me I will always help you! It belongs to the district center of Madrid where you can find several museums , ancient Jewish of Madrid, and taverns where you can have quiet drinks The nearest Metro station is Tirso de Molina , its just 300m from my flat The Puerta del Sol and Plaza Mayor are just 10 minutes walking The apartment is very central and can move to any part of the downtown walking.                                                                                                                        </td><td>none</td><td>It belongs to the district center of Madrid where you can find several museums , ancient Jewish of Madrid, and taverns where you can have quiet drinks                                                                                                                                                             </td><td>⋯</td><td> 9</td><td> 9</td><td> 8</td><td></td><td></td><td>strict  </td><td>13</td><td>5.88</td><td>40.40831556101927,-3.705006385704201  </td><td>Host Has Profile Pic,Host Identity Verified,Requires License,Instant Bookable                   </td></tr>\n",
       "\t<tr><th scope=row>3</th><td>17444981</td><td>https://www.airbnb.com/rooms/17444981</td><td>2.017041e+13</td><td>2017-04-08</td><td>Cosy Apartment SOL/LA LATINA       </td><td>Nice apartment near Sol and La Latina. Perfect for couples or group of friends. New and recently refurnished, full equipped. If you stay in this place, you will see that you can visit the city centre by walk, anyways there is a subway station 200 meters away.</td><td>Is a really cosy apartment with the best location.                                                                                                                                                                                                                                                                                                                                                                                                                                                       </td><td>Nice apartment near Sol and La Latina. Perfect for couples or group of friends. New and recently refurnished, full equipped. If you stay in this place, you will see that you can visit the city centre by walk, anyways there is a subway station 200 meters away. Is a really cosy apartment with the best location. I will be happy to help you with whatever you need La Latina is well known by El Rastro, the most popular market in the city with a lot of vintage clothes, furnitures and much more. Also there are a lot of bars perfect to eat really good TAPAS and drink beer. The best day to spend there is on Sunday´s afternoon. Sol is 8 minutes by walk from the apartment.                                                                                                                                                                                                                                                                                                                                           </td><td>none</td><td>La Latina is well known by El Rastro, the most popular market in the city with a lot of vintage clothes, furnitures and much more. Also there are a lot of bars perfect to eat really good TAPAS and drink beer. The best day to spend there is on Sunday´s afternoon. Sol is 8 minutes by walk from the apartment.</td><td>⋯</td><td>10</td><td>10</td><td>10</td><td></td><td></td><td>moderate</td><td> 1</td><td>6.18</td><td>40.413722014584295,-3.7068231186536718</td><td>Host Has Profile Pic,Host Identity Verified,Requires License,Instant Bookable                   </td></tr>\n",
       "\t<tr><th scope=row>4</th><td> 3284565</td><td>https://www.airbnb.com/rooms/3284565 </td><td>2.017041e+13</td><td>2017-04-08</td><td>Alquiler Estudio Nuevo Madrid      </td><td>Alquilo estudio en el centro de Madrid , totalmente equipado y amueblado. Cocina, nevera, tv, wifi, microondas, calefaccion, aire acondicionad(URL HIDDEN)metros del Museo Reina Sofia, cerca de los centros culturales y atractivos turisticos.                   </td><td>                                                                                                                                                                                                                                                                                                                                                                                                                                                                                                         </td><td>Alquilo estudio en el centro de Madrid , totalmente equipado y amueblado. Cocina, nevera, tv, wifi, microondas, calefaccion, aire acondicionad(URL HIDDEN)metros del Museo Reina Sofia, cerca de los centros culturales y atractivos turisticos.                                                                                                                                                                                                                                                                                                                                                                                                                                                                                                                                                                                                                                                                                                                                                                                        </td><td>none</td><td>                                                                                                                                                                                                                                                                                                                   </td><td>⋯</td><td>10</td><td> 9</td><td> 9</td><td></td><td></td><td>strict  </td><td> 3</td><td>0.19</td><td>40.411263372718054,-3.6973054373712886</td><td>Host Has Profile Pic,Host Identity Verified,Is Location Exact,Requires License                  </td></tr>\n",
       "\t<tr><th scope=row>5</th><td>  499911</td><td>https://www.airbnb.com/rooms/499911  </td><td>2.017041e+13</td><td>2017-04-08</td><td>2 bedroom apartment downtown Madrid</td><td>                                                                                                                                                                                                                                                                   </td><td>Bright and airy apartment in Central Madrid recently refurbished. Overlooking of Madrid rooftops. Near Puerta del Sol, Plaza Mayor and most important museums.  Air conditioning in all the rooms.                                                                                                                                                                                                                                                                                                       </td><td>Bright and airy apartment in Central Madrid recently refurbished. Overlooking of Madrid rooftops. Near Puerta del Sol, Plaza Mayor and most important museums.  Air conditioning in all the rooms.                                                                                                                                                                                                                                                                                                                                                                                                                                                                                                                                                                                                                                                                                                                                                                                                                                      </td><td>none</td><td>                                                                                                                                                                                                                                                                                                                   </td><td>⋯</td><td>10</td><td>10</td><td>10</td><td></td><td></td><td>strict  </td><td> 1</td><td>1.39</td><td>40.41255625665078,-3.701155364799422  </td><td>Host Is Superhost,Host Has Profile Pic,Host Identity Verified,Is Location Exact,Requires License</td></tr>\n",
       "\t<tr><th scope=row>6</th><td> 1346747</td><td>https://www.airbnb.com/rooms/1346747 </td><td>2.017041e+13</td><td>2017-04-08</td><td>Loft Duplex Historical center      </td><td>Precioso Loft situado en el Centro Histórico de Madrid con todas las comodidades. Cocina y baño completo, 1 dormitorio y en el salón un cómodo sofá-cama! Por supuesto tiene WIFI :)                                                                               </td><td>Renting studio duplex, nightly, weekly or monthly in historical center of Madrid in the heart of the \"Rastro\" area , close to the \"Galerias Piquer\" and antic shops. 50m2 fully furnished and equiped. Queen size bed on the first level, sofa bed on the ground floor. Can accomodate up to 4 people. It is located inside a courtyard filled with antic workshops. Very close to \"La Latina\" area , \"Lavapies\" area and Sol. 5 minutes walking distance from La Latina metro and Tirso de Molina metro.</td><td>Renting studio duplex, nightly, weekly or monthly in historical center of Madrid in the heart of the \"Rastro\" area , close to the \"Galerias Piquer\" and antic shops. 50m2 fully furnished and equiped. Queen size bed on the first level, sofa bed on the ground floor. Can accomodate up to 4 people. It is located inside a courtyard filled with antic workshops. Very close to \"La Latina\" area , \"Lavapies\" area and Sol. 5 minutes walking distance from La Latina metro and Tirso de Molina metro.                                                                                                                                                                                                                                                                                                                                                                                                                                                                                                                               </td><td>none</td><td>El edificio es muy tranquilo,el loft es bastante nuevo, y fue diseñado por mi mismo :)  El barrio de la Latina además es famoso por sus numerosos bares de tapas, y si os gusta la comida de todas las nacionalidades, en Lavapiés podréis degustar miles de platos de diversa índole                              </td><td>⋯</td><td> 9</td><td> 9</td><td> 9</td><td></td><td></td><td>moderate</td><td> 1</td><td>0.62</td><td>40.40790775263045,-3.7050953954416324 </td><td>Host Has Profile Pic,Is Location Exact,Requires License                                         </td></tr>\n",
       "</tbody>\n",
       "</table>\n"
      ],
      "text/latex": [
       "A data.frame: 6 × 89\n",
       "\\begin{tabular}{r|lllllllllllllllllllll}\n",
       "  & ID & Listing.Url & Scrape.ID & Last.Scraped & Name & Summary & Space & Description & Experiences.Offered & Neighborhood.Overview & ⋯ & Review.Scores.Communication & Review.Scores.Location & Review.Scores.Value & License & Jurisdiction.Names & Cancellation.Policy & Calculated.host.listings.count & Reviews.per.Month & Geolocation & Features\\\\\n",
       "  & <int> & <chr> & <dbl> & <chr> & <chr> & <chr> & <chr> & <chr> & <chr> & <chr> & ⋯ & <int> & <int> & <int> & <chr> & <chr> & <chr> & <int> & <dbl> & <chr> & <chr>\\\\\n",
       "\\hline\n",
       "\t1 & 15141125 & https://www.airbnb.com/rooms/15141125 & 2.017041e+13 & 2017-04-08 & Panoramic charming studio!          & Charming bright and cosy studio in \"El Rastro\" Located in the historic city center in one of the most gastronomic areas of madrid within walking distance to the most important touristic attractions.                                                              & It's a bright and cosy studio located in the heart of \"El Rastro\", one of the most central and charming areas of Madrid.  The studio has a panoramic stunning view. It's equipped with a comfy double bed, a folding single bed, tv, dvd, all the kitchen facilities, as well as a well appointed bathroom.                                                                                                                                                                                               & Charming bright and cosy studio in \"El Rastro\" Located in the historic city center in one of the most gastronomic areas of madrid within walking distance to the most important touristic attractions. It's a bright and cosy studio located in the heart of \"El Rastro\", one of the most central and charming areas of Madrid.  The studio has a panoramic stunning view. It's equipped with a comfy double bed, a folding single bed, tv, dvd, all the kitchen facilities, as well as a well appointed bathroom. The full studio will be entirely to the guests. The building has a lift so you don't have to carry your luggage any more :) I am delighted to preform the check in at the apartment upon an agreed time, and explain all the apartment details and give you a local insight about Madrid :) During the stay I am always available to assist in anything you may require :) You can always contact via whattsapp, phone and airbnb. The studio is located in the remarkable neighbourhood of La latina, Madrid city ce & none & The studio is located in the remarkable neighbourhood of La latina, Madrid city center, in the heart of El Rastro street market that happens every Sunday and bank holidays. If you are in Madrid you should not miss this event!                                                                                   & ⋯ & 10 & 10 & 10 &  &  & moderate &  2 & 5.11 & 40.40745268477803,-3.7079954754432634  & Host Is Superhost,Host Has Profile Pic,Host Identity Verified,Requires License,Instant Bookable \\\\\n",
       "\t2 &  9470166 & https://www.airbnb.com/rooms/9470166  & 2.017041e+13 & 2017-04-08 & Comfortable penthouse in the center & In the center, recently remodeled, comfortable, modern, very bright, very quiet and fully equipped. 10min walk to Plaza Mayor, Thyssen Museum,  Atocha train station and 15 to the Prado Museum. Metro 2min away.Great bed, Wifi,stereo,flat TV..                   & Quiet and comfortable space where you can relax during your stay in out city                                                                                                                                                                                                                                                                                                                                                                                                                              & In the center, recently remodeled, comfortable, modern, very bright, very quiet and fully equipped. 10min walk to Plaza Mayor, Thyssen Museum,  Atocha train station and 15 to the Prado Museum. Metro 2min away.Great bed, Wifi,stereo,flat TV.. Quiet and comfortable space where you can relax during your stay in out city You will be alone, while you are in my flat and you can use everything you have there If you have any questions while you are in the flat or any suggestions just tell me I will always help you! It belongs to the district center of Madrid where you can find several museums , ancient Jewish of Madrid, and taverns where you can have quiet drinks The nearest Metro station is Tirso de Molina , its just 300m from my flat The Puerta del Sol and Plaza Mayor are just 10 minutes walking The apartment is very central and can move to any part of the downtown walking.                                                                                                                         & none & It belongs to the district center of Madrid where you can find several museums , ancient Jewish of Madrid, and taverns where you can have quiet drinks                                                                                                                                                              & ⋯ &  9 &  9 &  8 &  &  & strict   & 13 & 5.88 & 40.40831556101927,-3.705006385704201   & Host Has Profile Pic,Host Identity Verified,Requires License,Instant Bookable                   \\\\\n",
       "\t3 & 17444981 & https://www.airbnb.com/rooms/17444981 & 2.017041e+13 & 2017-04-08 & Cosy Apartment SOL/LA LATINA        & Nice apartment near Sol and La Latina. Perfect for couples or group of friends. New and recently refurnished, full equipped. If you stay in this place, you will see that you can visit the city centre by walk, anyways there is a subway station 200 meters away. & Is a really cosy apartment with the best location.                                                                                                                                                                                                                                                                                                                                                                                                                                                        & Nice apartment near Sol and La Latina. Perfect for couples or group of friends. New and recently refurnished, full equipped. If you stay in this place, you will see that you can visit the city centre by walk, anyways there is a subway station 200 meters away. Is a really cosy apartment with the best location. I will be happy to help you with whatever you need La Latina is well known by El Rastro, the most popular market in the city with a lot of vintage clothes, furnitures and much more. Also there are a lot of bars perfect to eat really good TAPAS and drink beer. The best day to spend there is on Sunday´s afternoon. Sol is 8 minutes by walk from the apartment.                                                                                                                                                                                                                                                                                                                                            & none & La Latina is well known by El Rastro, the most popular market in the city with a lot of vintage clothes, furnitures and much more. Also there are a lot of bars perfect to eat really good TAPAS and drink beer. The best day to spend there is on Sunday´s afternoon. Sol is 8 minutes by walk from the apartment. & ⋯ & 10 & 10 & 10 &  &  & moderate &  1 & 6.18 & 40.413722014584295,-3.7068231186536718 & Host Has Profile Pic,Host Identity Verified,Requires License,Instant Bookable                   \\\\\n",
       "\t4 &  3284565 & https://www.airbnb.com/rooms/3284565  & 2.017041e+13 & 2017-04-08 & Alquiler Estudio Nuevo Madrid       & Alquilo estudio en el centro de Madrid , totalmente equipado y amueblado. Cocina, nevera, tv, wifi, microondas, calefaccion, aire acondicionad(URL HIDDEN)metros del Museo Reina Sofia, cerca de los centros culturales y atractivos turisticos.                    &                                                                                                                                                                                                                                                                                                                                                                                                                                                                                                           & Alquilo estudio en el centro de Madrid , totalmente equipado y amueblado. Cocina, nevera, tv, wifi, microondas, calefaccion, aire acondicionad(URL HIDDEN)metros del Museo Reina Sofia, cerca de los centros culturales y atractivos turisticos.                                                                                                                                                                                                                                                                                                                                                                                                                                                                                                                                                                                                                                                                                                                                                                                         & none &                                                                                                                                                                                                                                                                                                                     & ⋯ & 10 &  9 &  9 &  &  & strict   &  3 & 0.19 & 40.411263372718054,-3.6973054373712886 & Host Has Profile Pic,Host Identity Verified,Is Location Exact,Requires License                  \\\\\n",
       "\t5 &   499911 & https://www.airbnb.com/rooms/499911   & 2.017041e+13 & 2017-04-08 & 2 bedroom apartment downtown Madrid &                                                                                                                                                                                                                                                                     & Bright and airy apartment in Central Madrid recently refurbished. Overlooking of Madrid rooftops. Near Puerta del Sol, Plaza Mayor and most important museums.  Air conditioning in all the rooms.                                                                                                                                                                                                                                                                                                        & Bright and airy apartment in Central Madrid recently refurbished. Overlooking of Madrid rooftops. Near Puerta del Sol, Plaza Mayor and most important museums.  Air conditioning in all the rooms.                                                                                                                                                                                                                                                                                                                                                                                                                                                                                                                                                                                                                                                                                                                                                                                                                                       & none &                                                                                                                                                                                                                                                                                                                     & ⋯ & 10 & 10 & 10 &  &  & strict   &  1 & 1.39 & 40.41255625665078,-3.701155364799422   & Host Is Superhost,Host Has Profile Pic,Host Identity Verified,Is Location Exact,Requires License\\\\\n",
       "\t6 &  1346747 & https://www.airbnb.com/rooms/1346747  & 2.017041e+13 & 2017-04-08 & Loft Duplex Historical center       & Precioso Loft situado en el Centro Histórico de Madrid con todas las comodidades. Cocina y baño completo, 1 dormitorio y en el salón un cómodo sofá-cama! Por supuesto tiene WIFI :)                                                                                & Renting studio duplex, nightly, weekly or monthly in historical center of Madrid in the heart of the \"Rastro\" area , close to the \"Galerias Piquer\" and antic shops. 50m2 fully furnished and equiped. Queen size bed on the first level, sofa bed on the ground floor. Can accomodate up to 4 people. It is located inside a courtyard filled with antic workshops. Very close to \"La Latina\" area , \"Lavapies\" area and Sol. 5 minutes walking distance from La Latina metro and Tirso de Molina metro. & Renting studio duplex, nightly, weekly or monthly in historical center of Madrid in the heart of the \"Rastro\" area , close to the \"Galerias Piquer\" and antic shops. 50m2 fully furnished and equiped. Queen size bed on the first level, sofa bed on the ground floor. Can accomodate up to 4 people. It is located inside a courtyard filled with antic workshops. Very close to \"La Latina\" area , \"Lavapies\" area and Sol. 5 minutes walking distance from La Latina metro and Tirso de Molina metro.                                                                                                                                                                                                                                                                                                                                                                                                                                                                                                                                & none & El edificio es muy tranquilo,el loft es bastante nuevo, y fue diseñado por mi mismo :)  El barrio de la Latina además es famoso por sus numerosos bares de tapas, y si os gusta la comida de todas las nacionalidades, en Lavapiés podréis degustar miles de platos de diversa índole                               & ⋯ &  9 &  9 &  9 &  &  & moderate &  1 & 0.62 & 40.40790775263045,-3.7050953954416324  & Host Has Profile Pic,Is Location Exact,Requires License                                         \\\\\n",
       "\\end{tabular}\n"
      ],
      "text/markdown": [
       "\n",
       "A data.frame: 6 × 89\n",
       "\n",
       "| <!--/--> | ID &lt;int&gt; | Listing.Url &lt;chr&gt; | Scrape.ID &lt;dbl&gt; | Last.Scraped &lt;chr&gt; | Name &lt;chr&gt; | Summary &lt;chr&gt; | Space &lt;chr&gt; | Description &lt;chr&gt; | Experiences.Offered &lt;chr&gt; | Neighborhood.Overview &lt;chr&gt; | ⋯ ⋯ | Review.Scores.Communication &lt;int&gt; | Review.Scores.Location &lt;int&gt; | Review.Scores.Value &lt;int&gt; | License &lt;chr&gt; | Jurisdiction.Names &lt;chr&gt; | Cancellation.Policy &lt;chr&gt; | Calculated.host.listings.count &lt;int&gt; | Reviews.per.Month &lt;dbl&gt; | Geolocation &lt;chr&gt; | Features &lt;chr&gt; |\n",
       "|---|---|---|---|---|---|---|---|---|---|---|---|---|---|---|---|---|---|---|---|---|---|\n",
       "| 1 | 15141125 | https://www.airbnb.com/rooms/15141125 | 2.017041e+13 | 2017-04-08 | Panoramic charming studio!          | Charming bright and cosy studio in \"El Rastro\" Located in the historic city center in one of the most gastronomic areas of madrid within walking distance to the most important touristic attractions.                                                              | It's a bright and cosy studio located in the heart of \"El Rastro\", one of the most central and charming areas of Madrid.  The studio has a panoramic stunning view. It's equipped with a comfy double bed, a folding single bed, tv, dvd, all the kitchen facilities, as well as a well appointed bathroom.                                                                                                                                                                                               | Charming bright and cosy studio in \"El Rastro\" Located in the historic city center in one of the most gastronomic areas of madrid within walking distance to the most important touristic attractions. It's a bright and cosy studio located in the heart of \"El Rastro\", one of the most central and charming areas of Madrid.  The studio has a panoramic stunning view. It's equipped with a comfy double bed, a folding single bed, tv, dvd, all the kitchen facilities, as well as a well appointed bathroom. The full studio will be entirely to the guests. The building has a lift so you don't have to carry your luggage any more :) I am delighted to preform the check in at the apartment upon an agreed time, and explain all the apartment details and give you a local insight about Madrid :) During the stay I am always available to assist in anything you may require :) You can always contact via whattsapp, phone and airbnb. The studio is located in the remarkable neighbourhood of La latina, Madrid city ce | none | The studio is located in the remarkable neighbourhood of La latina, Madrid city center, in the heart of El Rastro street market that happens every Sunday and bank holidays. If you are in Madrid you should not miss this event!                                                                                   | ⋯ | 10 | 10 | 10 | <!----> | <!----> | moderate |  2 | 5.11 | 40.40745268477803,-3.7079954754432634  | Host Is Superhost,Host Has Profile Pic,Host Identity Verified,Requires License,Instant Bookable  |\n",
       "| 2 |  9470166 | https://www.airbnb.com/rooms/9470166  | 2.017041e+13 | 2017-04-08 | Comfortable penthouse in the center | In the center, recently remodeled, comfortable, modern, very bright, very quiet and fully equipped. 10min walk to Plaza Mayor, Thyssen Museum,  Atocha train station and 15 to the Prado Museum. Metro 2min away.Great bed, Wifi,stereo,flat TV..                   | Quiet and comfortable space where you can relax during your stay in out city                                                                                                                                                                                                                                                                                                                                                                                                                              | In the center, recently remodeled, comfortable, modern, very bright, very quiet and fully equipped. 10min walk to Plaza Mayor, Thyssen Museum,  Atocha train station and 15 to the Prado Museum. Metro 2min away.Great bed, Wifi,stereo,flat TV.. Quiet and comfortable space where you can relax during your stay in out city You will be alone, while you are in my flat and you can use everything you have there If you have any questions while you are in the flat or any suggestions just tell me I will always help you! It belongs to the district center of Madrid where you can find several museums , ancient Jewish of Madrid, and taverns where you can have quiet drinks The nearest Metro station is Tirso de Molina , its just 300m from my flat The Puerta del Sol and Plaza Mayor are just 10 minutes walking The apartment is very central and can move to any part of the downtown walking.                                                                                                                         | none | It belongs to the district center of Madrid where you can find several museums , ancient Jewish of Madrid, and taverns where you can have quiet drinks                                                                                                                                                              | ⋯ |  9 |  9 |  8 | <!----> | <!----> | strict   | 13 | 5.88 | 40.40831556101927,-3.705006385704201   | Host Has Profile Pic,Host Identity Verified,Requires License,Instant Bookable                    |\n",
       "| 3 | 17444981 | https://www.airbnb.com/rooms/17444981 | 2.017041e+13 | 2017-04-08 | Cosy Apartment SOL/LA LATINA        | Nice apartment near Sol and La Latina. Perfect for couples or group of friends. New and recently refurnished, full equipped. If you stay in this place, you will see that you can visit the city centre by walk, anyways there is a subway station 200 meters away. | Is a really cosy apartment with the best location.                                                                                                                                                                                                                                                                                                                                                                                                                                                        | Nice apartment near Sol and La Latina. Perfect for couples or group of friends. New and recently refurnished, full equipped. If you stay in this place, you will see that you can visit the city centre by walk, anyways there is a subway station 200 meters away. Is a really cosy apartment with the best location. I will be happy to help you with whatever you need La Latina is well known by El Rastro, the most popular market in the city with a lot of vintage clothes, furnitures and much more. Also there are a lot of bars perfect to eat really good TAPAS and drink beer. The best day to spend there is on Sunday´s afternoon. Sol is 8 minutes by walk from the apartment.                                                                                                                                                                                                                                                                                                                                            | none | La Latina is well known by El Rastro, the most popular market in the city with a lot of vintage clothes, furnitures and much more. Also there are a lot of bars perfect to eat really good TAPAS and drink beer. The best day to spend there is on Sunday´s afternoon. Sol is 8 minutes by walk from the apartment. | ⋯ | 10 | 10 | 10 | <!----> | <!----> | moderate |  1 | 6.18 | 40.413722014584295,-3.7068231186536718 | Host Has Profile Pic,Host Identity Verified,Requires License,Instant Bookable                    |\n",
       "| 4 |  3284565 | https://www.airbnb.com/rooms/3284565  | 2.017041e+13 | 2017-04-08 | Alquiler Estudio Nuevo Madrid       | Alquilo estudio en el centro de Madrid , totalmente equipado y amueblado. Cocina, nevera, tv, wifi, microondas, calefaccion, aire acondicionad(URL HIDDEN)metros del Museo Reina Sofia, cerca de los centros culturales y atractivos turisticos.                    | <!----> | Alquilo estudio en el centro de Madrid , totalmente equipado y amueblado. Cocina, nevera, tv, wifi, microondas, calefaccion, aire acondicionad(URL HIDDEN)metros del Museo Reina Sofia, cerca de los centros culturales y atractivos turisticos.                                                                                                                                                                                                                                                                                                                                                                                                                                                                                                                                                                                                                                                                                                                                                                                         | none | <!----> | ⋯ | 10 |  9 |  9 | <!----> | <!----> | strict   |  3 | 0.19 | 40.411263372718054,-3.6973054373712886 | Host Has Profile Pic,Host Identity Verified,Is Location Exact,Requires License                   |\n",
       "| 5 |   499911 | https://www.airbnb.com/rooms/499911   | 2.017041e+13 | 2017-04-08 | 2 bedroom apartment downtown Madrid | <!----> | Bright and airy apartment in Central Madrid recently refurbished. Overlooking of Madrid rooftops. Near Puerta del Sol, Plaza Mayor and most important museums.  Air conditioning in all the rooms.                                                                                                                                                                                                                                                                                                        | Bright and airy apartment in Central Madrid recently refurbished. Overlooking of Madrid rooftops. Near Puerta del Sol, Plaza Mayor and most important museums.  Air conditioning in all the rooms.                                                                                                                                                                                                                                                                                                                                                                                                                                                                                                                                                                                                                                                                                                                                                                                                                                       | none | <!----> | ⋯ | 10 | 10 | 10 | <!----> | <!----> | strict   |  1 | 1.39 | 40.41255625665078,-3.701155364799422   | Host Is Superhost,Host Has Profile Pic,Host Identity Verified,Is Location Exact,Requires License |\n",
       "| 6 |  1346747 | https://www.airbnb.com/rooms/1346747  | 2.017041e+13 | 2017-04-08 | Loft Duplex Historical center       | Precioso Loft situado en el Centro Histórico de Madrid con todas las comodidades. Cocina y baño completo, 1 dormitorio y en el salón un cómodo sofá-cama! Por supuesto tiene WIFI :)                                                                                | Renting studio duplex, nightly, weekly or monthly in historical center of Madrid in the heart of the \"Rastro\" area , close to the \"Galerias Piquer\" and antic shops. 50m2 fully furnished and equiped. Queen size bed on the first level, sofa bed on the ground floor. Can accomodate up to 4 people. It is located inside a courtyard filled with antic workshops. Very close to \"La Latina\" area , \"Lavapies\" area and Sol. 5 minutes walking distance from La Latina metro and Tirso de Molina metro. | Renting studio duplex, nightly, weekly or monthly in historical center of Madrid in the heart of the \"Rastro\" area , close to the \"Galerias Piquer\" and antic shops. 50m2 fully furnished and equiped. Queen size bed on the first level, sofa bed on the ground floor. Can accomodate up to 4 people. It is located inside a courtyard filled with antic workshops. Very close to \"La Latina\" area , \"Lavapies\" area and Sol. 5 minutes walking distance from La Latina metro and Tirso de Molina metro.                                                                                                                                                                                                                                                                                                                                                                                                                                                                                                                                | none | El edificio es muy tranquilo,el loft es bastante nuevo, y fue diseñado por mi mismo :)  El barrio de la Latina además es famoso por sus numerosos bares de tapas, y si os gusta la comida de todas las nacionalidades, en Lavapiés podréis degustar miles de platos de diversa índole                               | ⋯ |  9 |  9 |  9 | <!----> | <!----> | moderate |  1 | 0.62 | 40.40790775263045,-3.7050953954416324  | Host Has Profile Pic,Is Location Exact,Requires License                                          |\n",
       "\n"
      ],
      "text/plain": [
       "  ID       Listing.Url                           Scrape.ID    Last.Scraped\n",
       "1 15141125 https://www.airbnb.com/rooms/15141125 2.017041e+13 2017-04-08  \n",
       "2  9470166 https://www.airbnb.com/rooms/9470166  2.017041e+13 2017-04-08  \n",
       "3 17444981 https://www.airbnb.com/rooms/17444981 2.017041e+13 2017-04-08  \n",
       "4  3284565 https://www.airbnb.com/rooms/3284565  2.017041e+13 2017-04-08  \n",
       "5   499911 https://www.airbnb.com/rooms/499911   2.017041e+13 2017-04-08  \n",
       "6  1346747 https://www.airbnb.com/rooms/1346747  2.017041e+13 2017-04-08  \n",
       "  Name                               \n",
       "1 Panoramic charming studio!         \n",
       "2 Comfortable penthouse in the center\n",
       "3 Cosy Apartment SOL/LA LATINA       \n",
       "4 Alquiler Estudio Nuevo Madrid      \n",
       "5 2 bedroom apartment downtown Madrid\n",
       "6 Loft Duplex Historical center      \n",
       "  Summary                                                                                                                                                                                                                                                            \n",
       "1 Charming bright and cosy studio in \"El Rastro\" Located in the historic city center in one of the most gastronomic areas of madrid within walking distance to the most important touristic attractions.                                                             \n",
       "2 In the center, recently remodeled, comfortable, modern, very bright, very quiet and fully equipped. 10min walk to Plaza Mayor, Thyssen Museum,  Atocha train station and 15 to the Prado Museum. Metro 2min away.Great bed, Wifi,stereo,flat TV..                  \n",
       "3 Nice apartment near Sol and La Latina. Perfect for couples or group of friends. New and recently refurnished, full equipped. If you stay in this place, you will see that you can visit the city centre by walk, anyways there is a subway station 200 meters away.\n",
       "4 Alquilo estudio en el centro de Madrid , totalmente equipado y amueblado. Cocina, nevera, tv, wifi, microondas, calefaccion, aire acondicionad(URL HIDDEN)metros del Museo Reina Sofia, cerca de los centros culturales y atractivos turisticos.                   \n",
       "5                                                                                                                                                                                                                                                                    \n",
       "6 Precioso Loft situado en el Centro Histórico de Madrid con todas las comodidades. Cocina y baño completo, 1 dormitorio y en el salón un cómodo sofá-cama! Por supuesto tiene WIFI :)                                                                               \n",
       "  Space                                                                                                                                                                                                                                                                                                                                                                                                                                                                                                    \n",
       "1 It's a bright and cosy studio located in the heart of \"El Rastro\", one of the most central and charming areas of Madrid.  The studio has a panoramic stunning view. It's equipped with a comfy double bed, a folding single bed, tv, dvd, all the kitchen facilities, as well as a well appointed bathroom.                                                                                                                                                                                              \n",
       "2 Quiet and comfortable space where you can relax during your stay in out city                                                                                                                                                                                                                                                                                                                                                                                                                             \n",
       "3 Is a really cosy apartment with the best location.                                                                                                                                                                                                                                                                                                                                                                                                                                                       \n",
       "4                                                                                                                                                                                                                                                                                                                                                                                                                                                                                                          \n",
       "5 Bright and airy apartment in Central Madrid recently refurbished. Overlooking of Madrid rooftops. Near Puerta del Sol, Plaza Mayor and most important museums.  Air conditioning in all the rooms.                                                                                                                                                                                                                                                                                                       \n",
       "6 Renting studio duplex, nightly, weekly or monthly in historical center of Madrid in the heart of the \"Rastro\" area , close to the \"Galerias Piquer\" and antic shops. 50m2 fully furnished and equiped. Queen size bed on the first level, sofa bed on the ground floor. Can accomodate up to 4 people. It is located inside a courtyard filled with antic workshops. Very close to \"La Latina\" area , \"Lavapies\" area and Sol. 5 minutes walking distance from La Latina metro and Tirso de Molina metro.\n",
       "  Description                                                                                                                                                                                                                                                                                                                                                                                                                                                                                                                                                                                                                                                                                                                                                                                                                                                                                                                                                                                                                             \n",
       "1 Charming bright and cosy studio in \"El Rastro\" Located in the historic city center in one of the most gastronomic areas of madrid within walking distance to the most important touristic attractions. It's a bright and cosy studio located in the heart of \"El Rastro\", one of the most central and charming areas of Madrid.  The studio has a panoramic stunning view. It's equipped with a comfy double bed, a folding single bed, tv, dvd, all the kitchen facilities, as well as a well appointed bathroom. The full studio will be entirely to the guests. The building has a lift so you don't have to carry your luggage any more :) I am delighted to preform the check in at the apartment upon an agreed time, and explain all the apartment details and give you a local insight about Madrid :) During the stay I am always available to assist in anything you may require :) You can always contact via whattsapp, phone and airbnb. The studio is located in the remarkable neighbourhood of La latina, Madrid city ce\n",
       "2 In the center, recently remodeled, comfortable, modern, very bright, very quiet and fully equipped. 10min walk to Plaza Mayor, Thyssen Museum,  Atocha train station and 15 to the Prado Museum. Metro 2min away.Great bed, Wifi,stereo,flat TV.. Quiet and comfortable space where you can relax during your stay in out city You will be alone, while you are in my flat and you can use everything you have there If you have any questions while you are in the flat or any suggestions just tell me I will always help you! It belongs to the district center of Madrid where you can find several museums , ancient Jewish of Madrid, and taverns where you can have quiet drinks The nearest Metro station is Tirso de Molina , its just 300m from my flat The Puerta del Sol and Plaza Mayor are just 10 minutes walking The apartment is very central and can move to any part of the downtown walking.                                                                                                                        \n",
       "3 Nice apartment near Sol and La Latina. Perfect for couples or group of friends. New and recently refurnished, full equipped. If you stay in this place, you will see that you can visit the city centre by walk, anyways there is a subway station 200 meters away. Is a really cosy apartment with the best location. I will be happy to help you with whatever you need La Latina is well known by El Rastro, the most popular market in the city with a lot of vintage clothes, furnitures and much more. Also there are a lot of bars perfect to eat really good TAPAS and drink beer. The best day to spend there is on Sunday´s afternoon. Sol is 8 minutes by walk from the apartment.                                                                                                                                                                                                                                                                                                                                           \n",
       "4 Alquilo estudio en el centro de Madrid , totalmente equipado y amueblado. Cocina, nevera, tv, wifi, microondas, calefaccion, aire acondicionad(URL HIDDEN)metros del Museo Reina Sofia, cerca de los centros culturales y atractivos turisticos.                                                                                                                                                                                                                                                                                                                                                                                                                                                                                                                                                                                                                                                                                                                                                                                        \n",
       "5 Bright and airy apartment in Central Madrid recently refurbished. Overlooking of Madrid rooftops. Near Puerta del Sol, Plaza Mayor and most important museums.  Air conditioning in all the rooms.                                                                                                                                                                                                                                                                                                                                                                                                                                                                                                                                                                                                                                                                                                                                                                                                                                      \n",
       "6 Renting studio duplex, nightly, weekly or monthly in historical center of Madrid in the heart of the \"Rastro\" area , close to the \"Galerias Piquer\" and antic shops. 50m2 fully furnished and equiped. Queen size bed on the first level, sofa bed on the ground floor. Can accomodate up to 4 people. It is located inside a courtyard filled with antic workshops. Very close to \"La Latina\" area , \"Lavapies\" area and Sol. 5 minutes walking distance from La Latina metro and Tirso de Molina metro.                                                                                                                                                                                                                                                                                                                                                                                                                                                                                                                               \n",
       "  Experiences.Offered\n",
       "1 none               \n",
       "2 none               \n",
       "3 none               \n",
       "4 none               \n",
       "5 none               \n",
       "6 none               \n",
       "  Neighborhood.Overview                                                                                                                                                                                                                                                                                              \n",
       "1 The studio is located in the remarkable neighbourhood of La latina, Madrid city center, in the heart of El Rastro street market that happens every Sunday and bank holidays. If you are in Madrid you should not miss this event!                                                                                  \n",
       "2 It belongs to the district center of Madrid where you can find several museums , ancient Jewish of Madrid, and taverns where you can have quiet drinks                                                                                                                                                             \n",
       "3 La Latina is well known by El Rastro, the most popular market in the city with a lot of vintage clothes, furnitures and much more. Also there are a lot of bars perfect to eat really good TAPAS and drink beer. The best day to spend there is on Sunday´s afternoon. Sol is 8 minutes by walk from the apartment.\n",
       "4                                                                                                                                                                                                                                                                                                                    \n",
       "5                                                                                                                                                                                                                                                                                                                    \n",
       "6 El edificio es muy tranquilo,el loft es bastante nuevo, y fue diseñado por mi mismo :)  El barrio de la Latina además es famoso por sus numerosos bares de tapas, y si os gusta la comida de todas las nacionalidades, en Lavapiés podréis degustar miles de platos de diversa índole                              \n",
       "  ⋯ Review.Scores.Communication Review.Scores.Location Review.Scores.Value\n",
       "1 ⋯ 10                          10                     10                 \n",
       "2 ⋯  9                           9                      8                 \n",
       "3 ⋯ 10                          10                     10                 \n",
       "4 ⋯ 10                           9                      9                 \n",
       "5 ⋯ 10                          10                     10                 \n",
       "6 ⋯  9                           9                      9                 \n",
       "  License Jurisdiction.Names Cancellation.Policy Calculated.host.listings.count\n",
       "1                            moderate             2                            \n",
       "2                            strict              13                            \n",
       "3                            moderate             1                            \n",
       "4                            strict               3                            \n",
       "5                            strict               1                            \n",
       "6                            moderate             1                            \n",
       "  Reviews.per.Month Geolocation                           \n",
       "1 5.11              40.40745268477803,-3.7079954754432634 \n",
       "2 5.88              40.40831556101927,-3.705006385704201  \n",
       "3 6.18              40.413722014584295,-3.7068231186536718\n",
       "4 0.19              40.411263372718054,-3.6973054373712886\n",
       "5 1.39              40.41255625665078,-3.701155364799422  \n",
       "6 0.62              40.40790775263045,-3.7050953954416324 \n",
       "  Features                                                                                        \n",
       "1 Host Is Superhost,Host Has Profile Pic,Host Identity Verified,Requires License,Instant Bookable \n",
       "2 Host Has Profile Pic,Host Identity Verified,Requires License,Instant Bookable                   \n",
       "3 Host Has Profile Pic,Host Identity Verified,Requires License,Instant Bookable                   \n",
       "4 Host Has Profile Pic,Host Identity Verified,Is Location Exact,Requires License                  \n",
       "5 Host Is Superhost,Host Has Profile Pic,Host Identity Verified,Is Location Exact,Requires License\n",
       "6 Host Has Profile Pic,Is Location Exact,Requires License                                         "
      ]
     },
     "metadata": {},
     "output_type": "display_data"
    }
   ],
   "source": [
    "head(airbnb)"
   ]
  },
  {
   "cell_type": "code",
   "execution_count": 9,
   "metadata": {},
   "outputs": [
    {
     "data": {
      "text/html": [
       "89"
      ],
      "text/latex": [
       "89"
      ],
      "text/markdown": [
       "89"
      ],
      "text/plain": [
       "[1] 89"
      ]
     },
     "metadata": {},
     "output_type": "display_data"
    }
   ],
   "source": [
    "ncol(airbnb)"
   ]
  },
  {
   "cell_type": "code",
   "execution_count": null,
   "metadata": {},
   "outputs": [],
   "source": []
  },
  {
   "cell_type": "markdown",
   "metadata": {},
   "source": [
    "Nos quedarmos solo con las entradas de Madrid para Room.Type==\"Entire home/apt\" y cuyo barrio (Neighbourhood) no está vacio ''\n",
    "Podemos eliminar las siguientes columnas que ya no son necesarias:\n",
    "\"Room.Type\",'City'\n",
    "\n",
    "Llama a nuevo dataframe df_madrid."
   ]
  },
  {
   "cell_type": "code",
   "execution_count": null,
   "metadata": {},
   "outputs": [],
   "source": []
  },
  {
   "cell_type": "markdown",
   "metadata": {},
   "source": [
    "Crea una nueva columna llamada Square.Meters a partir de Square.Feet. Recuerda que un pie cuadrado son 0.092903 metros cuadrados."
   ]
  },
  {
   "cell_type": "code",
   "execution_count": null,
   "metadata": {},
   "outputs": [],
   "source": [
    "dfairbnb <- cbind(dfSquare.Meters)"
   ]
  },
  {
   "cell_type": "code",
   "execution_count": null,
   "metadata": {},
   "outputs": [],
   "source": []
  },
  {
   "cell_type": "markdown",
   "metadata": {},
   "source": [
    "¿Que porcentaje de los apartamentos no muestran los metros cuadrados? Es decir, ¿cuantos tienen NA en Square.Meters?"
   ]
  },
  {
   "cell_type": "code",
   "execution_count": null,
   "metadata": {},
   "outputs": [],
   "source": []
  },
  {
   "cell_type": "markdown",
   "metadata": {},
   "source": [
    "De todos los apartamentos que tienen un valor de metros cuadrados diferente de NA \n",
    "¿Que porcentaje de los apartamentos tienen 0 metros cuadrados?"
   ]
  },
  {
   "cell_type": "code",
   "execution_count": null,
   "metadata": {},
   "outputs": [],
   "source": []
  },
  {
   "cell_type": "markdown",
   "metadata": {},
   "source": [
    "Reemplazar todos los 0m^2 por NA "
   ]
  },
  {
   "cell_type": "code",
   "execution_count": null,
   "metadata": {},
   "outputs": [],
   "source": []
  },
  {
   "cell_type": "markdown",
   "metadata": {},
   "source": [
    "Son muchos, vamos a intentar crear un modelo que nos prediga cuantos son los metros cuadrados en función del resto de variables para tratar de rellenar esos NA. Pero **antes de crear el modelo** vamos a hacer:\n",
    "* pintar el histograma de los metros cuadrados y ver si tenemos que filtrar algún elemento más.\n",
    "* crearemos una variable sintética nueva basada en la similitud entre barrios que usaremos en nuestro modelo."
   ]
  },
  {
   "cell_type": "markdown",
   "metadata": {},
   "source": [
    "Pinta el histograma de los metros cuadrados y ver si tenemos que filtrar algún elemento más"
   ]
  },
  {
   "cell_type": "markdown",
   "metadata": {},
   "source": []
  },
  {
   "cell_type": "markdown",
   "metadata": {},
   "source": [
    "Asigna el valor NA a la columna Square.Meters de los apartamentos que tengan menos de 20 m^2"
   ]
  },
  {
   "cell_type": "code",
   "execution_count": null,
   "metadata": {},
   "outputs": [],
   "source": []
  },
  {
   "cell_type": "markdown",
   "metadata": {},
   "source": [
    "Existen varios Barrios que todas sus entradas de Square.Meters son NA, vamos a eliminar del dataset todos los pisos que pertenecen a estos barrios."
   ]
  },
  {
   "cell_type": "code",
   "execution_count": null,
   "metadata": {},
   "outputs": [],
   "source": []
  },
  {
   "cell_type": "markdown",
   "metadata": {},
   "source": [
    "El barrio parece ser un indicador importante para los metros cuadrados de un apartamento.\n",
    "\n",
    "Vamos a agrupar los barrios por metros cuadrados. Podemos usar una matriz de similaridad de Tukey tal y como hicimos en el curso de estadística:"
   ]
  },
  {
   "cell_type": "code",
   "execution_count": null,
   "metadata": {},
   "outputs": [],
   "source": [
    "tky<-TukeyHSD(aov( formula=Square.Meters~Neighbourhood, data=df_madrid ))\n",
    "tky.result<-data.frame(tky$Neighbourhood)\n",
    "cn <-sort(unique(df_madrid$Neighbourhood))\n",
    "resm <- matrix(NA, length(cn),length(cn))\n",
    "rownames(resm) <- cn\n",
    "colnames(resm) <- cn\n",
    "resm[lower.tri(resm) ] <- round(tky.result$p.adj,4)\n",
    "resm[upper.tri(resm) ] <- t(resm)[upper.tri(resm)] \n",
    "diag(resm) <- 1\n",
    "library(ggplot2)\n",
    "library(reshape2)\n",
    "dfResm <- melt(resm)\n",
    "ggplot(dfResm, aes(x=Var1, y=Var2, fill=value))+\n",
    "  geom_tile(colour = \"black\")+\n",
    "  scale_fill_gradient(low = \"white\",high = \"steelblue\")+\n",
    "  ylab(\"Class\")+xlab(\"Class\")+theme_bw()+\n",
    "  theme(axis.text.x = element_text(angle = 90, hjust = 1),legend.position=\"none\")"
   ]
  },
  {
   "cell_type": "markdown",
   "metadata": {},
   "source": [
    "Usando como variable de distancia: 1-resm\n",
    "Dibuja un dendrograma de los diferentes barrios.\n"
   ]
  },
  {
   "cell_type": "code",
   "execution_count": null,
   "metadata": {},
   "outputs": [],
   "source": []
  },
  {
   "cell_type": "code",
   "execution_count": null,
   "metadata": {},
   "outputs": [],
   "source": []
  },
  {
   "cell_type": "markdown",
   "metadata": {},
   "source": [
    "¿Que punto de corte sería el aconsejable?, ¿cuantos clusters aparecen?"
   ]
  },
  {
   "cell_type": "code",
   "execution_count": null,
   "metadata": {},
   "outputs": [],
   "source": []
  },
  {
   "cell_type": "markdown",
   "metadata": {},
   "source": [
    "Vamos a crear una nueva columna en el dataframe df_madrid con un nuevo identificador marcado por los clusters obtenidos. Esta columna la llamaremos neighb_id"
   ]
  },
  {
   "cell_type": "code",
   "execution_count": null,
   "metadata": {},
   "outputs": [],
   "source": []
  },
  {
   "cell_type": "code",
   "execution_count": null,
   "metadata": {},
   "outputs": [],
   "source": []
  },
  {
   "cell_type": "markdown",
   "metadata": {},
   "source": [
    "Vamos a crear dos grupos, uno test y otro train.\n",
    "\n",
    "Tratamos de predecir los metros cuadrados en función del resto de columnas del dataframe."
   ]
  },
  {
   "cell_type": "code",
   "execution_count": null,
   "metadata": {},
   "outputs": [],
   "source": []
  },
  {
   "cell_type": "code",
   "execution_count": null,
   "metadata": {},
   "outputs": [],
   "source": []
  },
  {
   "cell_type": "markdown",
   "metadata": {},
   "source": [
    "Mirad el histograma de los residuos sobre el conjunto de test para evaluar la calidad de vuestro modelo"
   ]
  },
  {
   "cell_type": "code",
   "execution_count": null,
   "metadata": {},
   "outputs": [],
   "source": []
  },
  {
   "cell_type": "code",
   "execution_count": null,
   "metadata": {},
   "outputs": [],
   "source": []
  },
  {
   "cell_type": "markdown",
   "metadata": {},
   "source": [
    "Si tuvieramos un anuncio de un apartamento para 6 personas (Accommodates), con 1 baño, con un precio de 80€/noche y 3 habitaciones en el barrio de Sol, con 3 camas y un review de 80.\n",
    "¿Cuantos metros cuadrados tendría? Si tu modelo necesita algúna variable adicional puedes inventartela dentro del rango de valores del dataset.\n",
    "¿Como varía sus metros cuadrados con cada habitación adicional?"
   ]
  },
  {
   "cell_type": "code",
   "execution_count": null,
   "metadata": {},
   "outputs": [],
   "source": []
  },
  {
   "cell_type": "code",
   "execution_count": null,
   "metadata": {},
   "outputs": [],
   "source": []
  },
  {
   "cell_type": "markdown",
   "metadata": {},
   "source": [
    "Rellenar los Square.Meters con valor NA con el estimado con el modelo anterior."
   ]
  },
  {
   "cell_type": "code",
   "execution_count": null,
   "metadata": {},
   "outputs": [],
   "source": []
  },
  {
   "cell_type": "markdown",
   "metadata": {},
   "source": [
    "Usar PCA para encontrar el apartamento más cercano a uno dado.\n",
    "\n",
    "Este algoritmo nos ayudaría a dado un apartamento que el algoritmo nos devolvería los 5 apartamentos más similares.\n",
    "\n",
    "\n",
    "Crearemos una función tal que le pasemos un apartamento con los siguientes datos:\n",
    "* Accommodates\t\n",
    "* Bathrooms\t\n",
    "* Bedrooms\t\n",
    "* Beds\t\n",
    "* Price\t\n",
    "* Guests.Included\t\n",
    "* Extra.People\t\n",
    "* Review.Scores.Rating\t\n",
    "* Latitude\t\n",
    "* Longitude\t\n",
    "* Square.Meters\n",
    "\n",
    "y nos devuelva los 5 más similares de:"
   ]
  },
  {
   "cell_type": "code",
   "execution_count": null,
   "metadata": {},
   "outputs": [],
   "source": []
  },
  {
   "cell_type": "code",
   "execution_count": null,
   "metadata": {},
   "outputs": [],
   "source": []
  },
  {
   "cell_type": "code",
   "execution_count": null,
   "metadata": {},
   "outputs": [],
   "source": []
  },
  {
   "cell_type": "code",
   "execution_count": null,
   "metadata": {},
   "outputs": [],
   "source": []
  },
  {
   "cell_type": "code",
   "execution_count": null,
   "metadata": {},
   "outputs": [],
   "source": []
  },
  {
   "cell_type": "markdown",
   "metadata": {},
   "source": [
    "Bonus: ¿de todas las coordenadas PCA cual es la que mejor permite clasificar por id de barrio?\n",
    "\n",
    "¿Por qué?"
   ]
  },
  {
   "cell_type": "code",
   "execution_count": null,
   "metadata": {},
   "outputs": [],
   "source": []
  },
  {
   "cell_type": "code",
   "execution_count": null,
   "metadata": {},
   "outputs": [],
   "source": []
  },
  {
   "cell_type": "code",
   "execution_count": null,
   "metadata": {},
   "outputs": [],
   "source": []
  },
  {
   "cell_type": "code",
   "execution_count": null,
   "metadata": {},
   "outputs": [],
   "source": []
  },
  {
   "cell_type": "code",
   "execution_count": null,
   "metadata": {},
   "outputs": [],
   "source": []
  }
 ],
 "metadata": {
  "kernelspec": {
   "display_name": "R",
   "language": "R",
   "name": "ir"
  },
  "language_info": {
   "codemirror_mode": "r",
   "file_extension": ".r",
   "mimetype": "text/x-r-source",
   "name": "R",
   "pygments_lexer": "r",
   "version": "4.1.0"
  }
 },
 "nbformat": 4,
 "nbformat_minor": 2
}
